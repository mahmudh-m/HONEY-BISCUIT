{
 "cells": [
  {
   "cell_type": "markdown",
   "id": "d2a63b9e-4963-4847-983a-104074ba4bbc",
   "metadata": {},
   "source": [
    "# Data science tool and ecosystem"
   ]
  },
  {
   "cell_type": "markdown",
   "id": "c3edea50-23c3-430f-88fc-9e45e782f645",
   "metadata": {
    "tags": []
   },
   "source": [
    "**IN this notebook,Data science tools and Ecosystem are summarized**"
   ]
  },
  {
   "cell_type": "markdown",
   "id": "298dd96d-4fec-44dd-b482-19db8703a4c2",
   "metadata": {
    "tags": []
   },
   "source": [
    "*some of the popeular languages that Data science use are:*"
   ]
  },
  {
   "cell_type": "markdown",
   "id": "324d2669-1f7d-4e0c-b9e7-88f6f3b39e8e",
   "metadata": {},
   "source": [
    "1 R"
   ]
  },
  {
   "cell_type": "markdown",
   "id": "bc86a5f5-5b42-4d3e-9c4f-b00e271d7adb",
   "metadata": {
    "tags": []
   },
   "source": [
    "2 SCALA"
   ]
  },
  {
   "cell_type": "markdown",
   "id": "3db8d0e2-cb59-4090-b899-66652c8d19f0",
   "metadata": {},
   "source": [
    "3 SQL"
   ]
  },
  {
   "cell_type": "markdown",
   "id": "63615af4-8f18-4af5-9a4b-9fc69e695cab",
   "metadata": {
    "tags": []
   },
   "source": [
    "4 JAVA"
   ]
  },
  {
   "cell_type": "markdown",
   "id": "ad5478a6-9699-4ad5-b985-22cfa61ea80b",
   "metadata": {},
   "source": [
    "5 C++"
   ]
  },
  {
   "cell_type": "code",
   "execution_count": null,
   "id": "096f21fe-cc45-4fa7-9a75-b2d56f5a58a0",
   "metadata": {},
   "outputs": [],
   "source": [
    "6 JULIA"
   ]
  },
  {
   "cell_type": "code",
   "execution_count": null,
   "id": "b742ae45-9b6b-479e-b1a0-c2aee70006ee",
   "metadata": {},
   "outputs": [],
   "source": [
    "7 PHYTHON"
   ]
  },
  {
   "cell_type": "markdown",
   "id": "5066bdf6-2c00-4f22-8013-b668c576fcb2",
   "metadata": {},
   "source": [
    "*some of the commomly used libraries usedby Data science includes:* "
   ]
  },
  {
   "cell_type": "markdown",
   "id": "d36fc6b1-6973-4a35-85dd-4089e50a26d7",
   "metadata": {},
   "source": [
    "1 numpy"
   ]
  },
  {
   "cell_type": "markdown",
   "id": "1b1aa247-61c4-41c1-8219-1db5d21598c3",
   "metadata": {},
   "source": [
    "2 sci-learn"
   ]
  },
  {
   "cell_type": "markdown",
   "id": "d42034e9-bd61-4b4b-b8c2-a83edbca1c21",
   "metadata": {},
   "source": [
    "3 pytorch"
   ]
  },
  {
   "cell_type": "markdown",
   "id": "75fb73af-5b7d-4e85-89ae-aed5250f05d2",
   "metadata": {},
   "source": [
    "4 scikit-learn "
   ]
  },
  {
   "cell_type": "markdown",
   "id": "fae8c73d-7b79-4056-82ac-3e062fbc0967",
   "metadata": {
    "tags": []
   },
   "source": [
    "5 keras"
   ]
  },
  {
   "cell_type": "markdown",
   "id": "efb56418-b057-48f3-95f1-61840ae64bfe",
   "metadata": {},
   "source": [
    "6 matplotlib "
   ]
  },
  {
   "cell_type": "code",
   "execution_count": null,
   "id": "e846427b-5238-466f-9765-74e62270cb78",
   "metadata": {},
   "outputs": [],
   "source": []
  }
 ],
 "metadata": {
  "kernelspec": {
   "display_name": "Python",
   "language": "python",
   "name": "conda-env-python-py"
  },
  "language_info": {
   "codemirror_mode": {
    "name": "ipython",
    "version": 3
   },
   "file_extension": ".py",
   "mimetype": "text/x-python",
   "name": "python",
   "nbconvert_exporter": "python",
   "pygments_lexer": "ipython3",
   "version": "3.7.12"
  }
 },
 "nbformat": 4,
 "nbformat_minor": 5
}
